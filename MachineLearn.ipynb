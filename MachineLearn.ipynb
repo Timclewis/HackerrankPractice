{
 "cells": [
  {
   "cell_type": "code",
   "execution_count": null,
   "metadata": {
    "collapsed": true,
    "pycharm": {
     "name": "#%%\n"
    }
   },
   "outputs": [],
   "source": [
    "def displayPathtoPrincess(n,grid):\n",
    "    prinX = marioX = directX = 0\n",
    "    prinY = marioY = directY = 0\n",
    "    string = split_string = result = ''\n",
    "    for i in range(n):\n",
    "        for j in range(n):\n",
    "            if grid[i][j] == 'p':\n",
    "                prinX = j\n",
    "                prinY = i\n",
    "            if grid[i][j] == 'm':\n",
    "                marioX = j\n",
    "                marioY = i\n",
    "\n",
    "    directX = marioX - prinX\n",
    "    directY = marioY - prinY\n",
    "\n",
    "    if directX > 0:\n",
    "        string = string + 'LEFT '*abs(directX)\n",
    "    if directX < 0:\n",
    "        string = string + 'RIGHT '*abs(directX)\n",
    "    if directY > 0:\n",
    "        string = string + 'UP '*abs(directY)\n",
    "    if directY < 0:\n",
    "        string = string + 'DOWN '*abs(directY)\n",
    "\n",
    "    split_string = string.split()\n",
    "    result = '\\n'.join(split_string)\n",
    "    print(result)\n",
    "\n",
    "m = 4\n",
    "grid = [['-', '-', 'm','-'],['-', '-', '-','-'],['-', '-', '-','-'],['p', '-', '-', '-']]\n",
    "displayPathtoPrincess(m, grid)"
   ]
  },
  {
   "cell_type": "code",
   "execution_count": null,
   "outputs": [],
   "source": [
    "def nextMove(n,r,c,grid):\n",
    "    prinX = marioX = directX = 0\n",
    "    prinY = marioY = directY = 0\n",
    "    string = split_string = result = ''\n",
    "    for i in range(n):\n",
    "        for j in range(n):\n",
    "            if grid[i][j] == 'p':\n",
    "                prinX = j\n",
    "                prinY = i\n",
    "            if grid[i][j] == 'm':\n",
    "                marioX = j\n",
    "                marioY = i\n",
    "\n",
    "    directX = marioX - prinX\n",
    "    directY = marioY - prinY\n",
    "\n",
    "    if directX > 0:\n",
    "        string = string + 'LEFT '*abs(directX)\n",
    "    if directX < 0:\n",
    "        string = string + 'RIGHT '*abs(directX)\n",
    "    if directY > 0:\n",
    "        string = string + 'UP '*abs(directY)\n",
    "    if directY < 0:\n",
    "        string = string + 'DOWN '*abs(directY)\n",
    "\n",
    "    split_string = string.split()\n",
    "    result = split_string[0]\n",
    "    return result\n",
    "\n",
    "n = 5\n",
    "r = 2\n",
    "c = 3\n",
    "grid = [['-', '-', '-','-', '-'],['-', '-', '-','-', '-'],['p', '-', '-', 'm','-'],['-', '-', '-', '-', '-'],['-', '-', '-','-', '-']]\n",
    "\n",
    "nextMove(n,r,c,grid)"
   ],
   "metadata": {
    "collapsed": false,
    "pycharm": {
     "name": "#%%\n"
    }
   }
  }
 ],
 "metadata": {
  "kernelspec": {
   "display_name": "Python 3",
   "language": "python",
   "name": "python3"
  },
  "language_info": {
   "codemirror_mode": {
    "name": "ipython",
    "version": 2
   },
   "file_extension": ".py",
   "mimetype": "text/x-python",
   "name": "python",
   "nbconvert_exporter": "python",
   "pygments_lexer": "ipython2",
   "version": "2.7.6"
  }
 },
 "nbformat": 4,
 "nbformat_minor": 0
}
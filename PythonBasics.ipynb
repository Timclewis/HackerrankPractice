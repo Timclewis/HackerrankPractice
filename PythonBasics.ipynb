{
 "cells": [
  {
   "cell_type": "code",
   "execution_count": 3,
   "outputs": [],
   "source": [
    "import pandas as pd\n",
    "import numpy as np\n",
    "import matplotlib.pyplot as plt\n",
    "import sklearn"
   ],
   "metadata": {
    "collapsed": false,
    "pycharm": {
     "name": "#%%\n"
    }
   }
  },
  {
   "cell_type": "code",
   "execution_count": 18,
   "outputs": [
    {
     "name": "stdout",
     "output_type": "stream",
     "text": [
      "[4, 3, 2, 1]\n"
     ]
    }
   ],
   "source": [
    "a = [1,2,3,4]\n",
    "n = len(a) // 2\n",
    "for i in range(n):\n",
    "    a[i], a[-i-1] = a[-i-1], a[i]\n",
    "\n",
    "print(a)"
   ],
   "metadata": {
    "collapsed": false,
    "pycharm": {
     "name": "#%%\n"
    }
   }
  },
  {
   "cell_type": "code",
   "execution_count": 4,
   "outputs": [
    {
     "name": "stdout",
     "output_type": "stream",
     "text": [
      "0.4\n"
     ]
    }
   ],
   "source": [
    "def plusMinus(arr):\n",
    "    n = len(arr)\n",
    "    sum_neg = 0\n",
    "    sum_pos = 0\n",
    "    sum_zer = 0\n",
    "    for i in range(n):\n",
    "        if arr[i] > 0:\n",
    "            sum_pos = sum_pos + 1\n",
    "        if arr[i] < 0:\n",
    "            sum_neg = sum_neg + 1\n",
    "        else:\n",
    "            sum_zer = sum_zer + 1\n",
    "\n",
    "    return round(sum_neg/n, 6)\n",
    "\n",
    "if __name__ == '__main__':\n",
    "    #n = int(input().strip())\n",
    "\n",
    "    #arr = list(map(int, input().rstrip().split()))\n",
    "    n = 5\n",
    "    arr = [1,1,0,-1,-1]\n",
    "\n",
    "    print(plusMinus(arr))"
   ],
   "metadata": {
    "collapsed": false,
    "pycharm": {
     "name": "#%%\n"
    }
   }
  },
  {
   "cell_type": "code",
   "execution_count": 48,
   "outputs": [
    {
     "data": {
      "text/plain": "2"
     },
     "execution_count": 48,
     "metadata": {},
     "output_type": "execute_result"
    }
   ],
   "source": [
    "def getTotal(a, b):\n",
    "    result = []\n",
    "    for i in range(max(a), (min(b)+1)):\n",
    "        isFactor = True\n",
    "\n",
    "        for j in a:\n",
    "            if i % j != 0:\n",
    "                isFactor = False\n",
    "                break\n",
    "\n",
    "        for j in b:\n",
    "            if j % i != 0:\n",
    "                isFactor = False\n",
    "                break\n",
    "\n",
    "        if isFactor:\n",
    "            result.append(i)\n",
    "\n",
    "    return len(result)\n",
    "\n",
    "\n",
    "a = [3, 4]\n",
    "b = [24, 48]\n",
    "getTotal(a, b)"
   ],
   "metadata": {
    "collapsed": false,
    "pycharm": {
     "name": "#%%\n"
    }
   }
  },
  {
   "cell_type": "code",
   "execution_count": 66,
   "outputs": [
    {
     "name": "stdout",
     "output_type": "stream",
     "text": [
      "[2, 4, 6, 8, 10]\n"
     ]
    }
   ],
   "source": [
    "nums = [1,2,3,4,5,6,7,8,9,10]\n",
    "\n",
    "my_list = [n for n in nums if n%2 ==0]\n",
    "print(my_list)\n"
   ],
   "metadata": {
    "collapsed": false,
    "pycharm": {
     "name": "#%%\n"
    }
   }
  },
  {
   "cell_type": "code",
   "execution_count": 68,
   "outputs": [
    {
     "name": "stdout",
     "output_type": "stream",
     "text": [
      "[('a', 0), ('a', 1), ('a', 2), ('a', 3), ('b', 0), ('b', 1), ('b', 2), ('b', 3), ('c', 0), ('c', 1), ('c', 2), ('c', 3), ('d', 0), ('d', 1), ('d', 2), ('d', 3)]\n"
     ]
    }
   ],
   "source": [
    "my_list = []\n",
    "for letter in 'abcd':\n",
    "    for num in range(4):\n",
    "        my_list.append((letter,num))\n",
    "print(my_list)"
   ],
   "metadata": {
    "collapsed": false,
    "pycharm": {
     "name": "#%%\n"
    }
   }
  },
  {
   "cell_type": "code",
   "execution_count": 70,
   "outputs": [
    {
     "name": "stdout",
     "output_type": "stream",
     "text": [
      "[('a', 0), ('a', 1), ('a', 2), ('a', 3), ('b', 0), ('b', 1), ('b', 2), ('b', 3), ('c', 0), ('c', 1), ('c', 2), ('c', 3), ('d', 0), ('d', 1), ('d', 2), ('d', 3)]\n"
     ]
    }
   ],
   "source": [
    "my_list = [(letter,num) for letter in 'abcd' for num in range(4)]\n",
    "print(my_list)"
   ],
   "metadata": {
    "collapsed": false,
    "pycharm": {
     "name": "#%%\n"
    }
   }
  },
  {
   "cell_type": "code",
   "execution_count": 94,
   "outputs": [
    {
     "name": "stdout",
     "output_type": "stream",
     "text": [
      "[(0, 0, 0), (0, 0, 1), (0, 0, 2), (0, 1, 0), (0, 1, 1), (1, 0, 0), (1, 0, 1), (1, 1, 0), (1, 1, 2)]\n"
     ]
    }
   ],
   "source": [
    "x = 1\n",
    "y = 1\n",
    "z = 2\n",
    "n = 3\n",
    "dim = [x, y]\n",
    "\n",
    "newlist = [(i, j, k) for i in range(x+1) for j in range(y+1) for k in range(z+1) if i+j+k != n]\n",
    "print(newlist)\n"
   ],
   "metadata": {
    "collapsed": false,
    "pycharm": {
     "name": "#%%\n"
    }
   }
  },
  {
   "cell_type": "code",
   "execution_count": 116,
   "outputs": [
    {
     "name": "stdout",
     "output_type": "stream",
     "text": [
      "5\n"
     ]
    }
   ],
   "source": [
    "a = [2,3,6,6,5]\n",
    "sorted_a = sorted(a, reverse=True)\n",
    "for i in range(len(a)):\n",
    "    if sorted_a[i] != max(a):\n",
    "        print(sorted_a[i])\n",
    "        break\n"
   ],
   "metadata": {
    "collapsed": false,
    "pycharm": {
     "name": "#%%\n"
    }
   }
  },
  {
   "cell_type": "code",
   "execution_count": 7,
   "outputs": [],
   "source": [
    "items = [('prod1', 10), ('prod2', 8), ('prod3', 12)]\n",
    "x, y, z = 3, 3, 3\n",
    "dims = [(i,j,k) for i in range(x) for j in range(y) for k in range(z) if i+j+k != 5]\n",
    "\n",
    "prices = [item for item in items if item[1] > 7]\n",
    "prices.reverse()\n"
   ],
   "metadata": {
    "collapsed": false,
    "pycharm": {
     "name": "#%%\n"
    }
   }
  },
  {
   "cell_type": "code",
   "execution_count": null,
   "outputs": [],
   "source": [
    "n = 4\n",
    "\n",
    "\n",
    "list = []\n",
    "if 'insert' in n:\n",
    "    list.insert()\n",
    "    print(list)\n",
    "\n",
    "list.remove()\n",
    "\n"
   ],
   "metadata": {
    "collapsed": false,
    "pycharm": {
     "name": "#%%\n"
    }
   }
  },
  {
   "cell_type": "code",
   "execution_count": null,
   "outputs": [],
   "source": [
    "import math\n",
    "import os\n",
    "import random\n",
    "import re\n",
    "import sys\n",
    "\n",
    "# Complete the time_delta function below.\n",
    "def time_delta(t1, t2):\n",
    "    days = abs((int(t1[4:6])) - int(t2[4:6])) * 24 * 3600\n",
    "    hours = (int(t1[16:18]) - int(t2[16:18])) * 3600\n",
    "    zone  = -((int(t1[25:26] + t1[28:])* 60) + int(t1[25:28]) * 3600)\n",
    "    return str(abs(hours+days+zone))\n",
    "    #return str(hours)\n",
    "\n",
    "if __name__ == '__main__':\n",
    "    fptr = open(os.environ['OUTPUT_PATH'], 'w')\n",
    "\n",
    "    t = int(input())\n",
    "\n",
    "    for t_itr in range(t):\n",
    "        t1 = input()\n",
    "\n",
    "        t2 = input()\n",
    "\n",
    "        delta = time_delta(t1, t2)\n",
    "\n",
    "        fptr.write(delta + '\\n')\n",
    "\n",
    "    fptr.close()\n"
   ],
   "metadata": {
    "collapsed": false,
    "pycharm": {
     "name": "#%%\n"
    }
   }
  },
  {
   "cell_type": "code",
   "execution_count": null,
   "outputs": [],
   "source": [
    "def time_delta(t1, t2):\n",
    "    fmt = '%a %d %b %Y %H:%M:%S %z'\n",
    "    time1 = dt.strptime(t1, fmt)\n",
    "    time2 = dt.strptime(t2, fmt)\n",
    "    delta = (time1 - time2).total_seconds()\n",
    "\n",
    "    return int(delta)\n",
    "\n",
    "\n"
   ],
   "metadata": {
    "collapsed": false,
    "pycharm": {
     "name": "#%%\n"
    }
   }
  },
  {
   "cell_type": "code",
   "execution_count": 9,
   "outputs": [
    {
     "name": "stdout",
     "output_type": "stream",
     "text": [
      "2\n"
     ]
    }
   ],
   "source": [
    "def count_substring(string, sub_string):\n",
    "    sub = len(sub_string)\n",
    "    result = 0\n",
    "    for i in range(0, len(string) - sub + 1):\n",
    "        if sub_string == string[i:sub+i]:\n",
    "            result += 1\n",
    "\n",
    "    return result\n",
    "\n",
    "string = 'ABCDCDC'\n",
    "sub_string = 'CDC'\n",
    "count = count_substring(string, sub_string)\n",
    "print(count)"
   ],
   "metadata": {
    "collapsed": false,
    "pycharm": {
     "name": "#%%\n"
    }
   }
  },
  {
   "cell_type": "code",
   "execution_count": 14,
   "outputs": [
    {
     "name": "stdout",
     "output_type": "stream",
     "text": [
      "True\n",
      "True\n",
      "True\n",
      "True\n",
      "True\n"
     ]
    }
   ],
   "source": [
    "s = 'qA2'\n",
    "result = ['False'] * 5\n",
    "for i in range(0, len(s)):\n",
    "    if s[i].isalnum():\n",
    "        result[0] = 'True'\n",
    "    if s[i].isalpha():\n",
    "        result[1] = 'True'\n",
    "    if s[i].isdigit():\n",
    "        result[2] = 'True'\n",
    "    if s[i].islower():\n",
    "        result[3] = 'True'\n",
    "    if s[i].isupper():\n",
    "        result[4] = 'True'\n",
    "print('\\n'.join(result))\n"
   ],
   "metadata": {
    "collapsed": false,
    "pycharm": {
     "name": "#%%\n"
    }
   }
  },
  {
   "cell_type": "code",
   "execution_count": 4,
   "outputs": [
    {
     "name": "stdout",
     "output_type": "stream",
     "text": [
      "___\n",
      "___\n",
      "___\n"
     ]
    }
   ],
   "source": [
    "N = 3\n",
    "M = 3 * N\n",
    "for i in range(N):\n",
    "    print(('_'* N).center(N-1))"
   ],
   "metadata": {
    "collapsed": false,
    "pycharm": {
     "name": "#%%\n"
    }
   }
  },
  {
   "cell_type": "code",
   "execution_count": 28,
   "outputs": [
    {
     "name": "stdout",
     "output_type": "stream",
     "text": [
      "    1     1     1     1\n",
      "    2     2     2    10\n"
     ]
    }
   ],
   "source": [
    "n = 2\n",
    "width = len('{n:b}')\n",
    "for i in range(1,n+1):\n",
    "    print((f'{i:{width}d}'), f'{i:{width}o}',f'{i:{width}X}',f'{i:{width}b}')"
   ],
   "metadata": {
    "collapsed": false,
    "pycharm": {
     "name": "#%%\n"
    }
   }
  },
  {
   "cell_type": "code",
   "execution_count": 34,
   "outputs": [
    {
     "data": {
      "text/plain": "5"
     },
     "execution_count": 34,
     "metadata": {},
     "output_type": "execute_result"
    }
   ],
   "source": [
    "len('{n:x}')"
   ],
   "metadata": {
    "collapsed": false,
    "pycharm": {
     "name": "#%%\n"
    }
   }
  },
  {
   "cell_type": "code",
   "execution_count": 38,
   "outputs": [
    {
     "name": "stdout",
     "output_type": "stream",
     "text": [
      "['hello', 'world']\n"
     ]
    }
   ],
   "source": [
    "s = 'hello world'\n",
    "print(s.split())"
   ],
   "metadata": {
    "collapsed": false,
    "pycharm": {
     "name": "#%%\n"
    }
   }
  },
  {
   "cell_type": "code",
   "execution_count": null,
   "outputs": [],
   "source": [],
   "metadata": {
    "collapsed": false,
    "pycharm": {
     "name": "#%%\n"
    }
   }
  },
  {
   "cell_type": "code",
   "execution_count": null,
   "outputs": [],
   "source": [
    "my_list = [(letter,num) for letter in 'abcd' for num in range(4)]\n"
   ],
   "metadata": {
    "collapsed": false,
    "pycharm": {
     "name": "#%%\n"
    }
   }
  },
  {
   "cell_type": "code",
   "execution_count": 17,
   "outputs": [
    {
     "name": "stdout",
     "output_type": "stream",
     "text": [
      "Stuart 12\n"
     ]
    }
   ],
   "source": [
    "s = 'BANANA'\n",
    "vowels = 'AEIOU'\n",
    "points_vowels, points_const = 0, 0\n",
    "\n",
    "\n",
    "for i in range(0, len(s)):\n",
    "    if s[i] in vowels:\n",
    "        points_vowels += len(s) - i\n",
    "    else:\n",
    "        points_const += len(s) - i\n",
    "\n",
    "if points_vowels < points_const:\n",
    "    print(f'Stuart {points_const}')\n",
    "\n",
    "elif points_vowels > points_const:\n",
    "    print(f'Kevin {points_vowels}')\n",
    "\n",
    "else:\n",
    "    print('Draw')\n",
    "#\n",
    "# for j in range(0, len(string_const)):\n",
    "#     sub = len(string_const[j])\n",
    "#     for k in range(0, len(s) - sub + 1):\n",
    "#         if string_const[j] == s[k:sub+k]:\n",
    "#             points_const += 1\n",
    "#\n",
    "\n"
   ],
   "metadata": {
    "collapsed": false,
    "pycharm": {
     "name": "#%%\n"
    }
   }
  },
  {
   "cell_type": "code",
   "execution_count": 11,
   "outputs": [
    {
     "name": "stdout",
     "output_type": "stream",
     "text": [
      "ye\n"
     ]
    }
   ],
   "source": [
    "if 'A' in 'AEIOU':\n",
    "    print('ye')"
   ],
   "metadata": {
    "collapsed": false,
    "pycharm": {
     "name": "#%%\n"
    }
   }
  },
  {
   "cell_type": "code",
   "execution_count": 19,
   "outputs": [
    {
     "data": {
      "text/plain": "2"
     },
     "execution_count": 19,
     "metadata": {},
     "output_type": "execute_result"
    }
   ],
   "source": [
    "string = 'Banana'\n",
    "sub_string = 'n'\n",
    "\n",
    "def count_substring(string, sub_string):\n",
    "    sub = len(sub_string)\n",
    "    result = 0\n",
    "    for i in range(0, len(string) - sub + 1):\n",
    "        if sub_string == string[i:sub+i]:\n",
    "            result += 1\n",
    "\n",
    "    return result\n",
    "\n",
    "count_substring(string, sub_string)"
   ],
   "metadata": {
    "collapsed": false,
    "pycharm": {
     "name": "#%%\n"
    }
   }
  },
  {
   "cell_type": "code",
   "execution_count": 18,
   "outputs": [
    {
     "name": "stdout",
     "output_type": "stream",
     "text": [
      "AB\n",
      "CA\n",
      "AD\n"
     ]
    }
   ],
   "source": [
    "def merge_the_tools(string, k):\n",
    "    for n in range(0,len(string),k):\n",
    "        result = ''.join(dict.fromkeys(string[n:n+k]))\n",
    "        print(result)\n",
    "\n",
    "string = 'AABCAAADA'\n",
    "string1 = 'AAABCADDE'\n",
    "k = 3\n",
    "merge_the_tools(string, k)\n",
    "\n",
    "#0-2, 3-5 6-8\n"
   ],
   "metadata": {
    "collapsed": false,
    "pycharm": {
     "name": "#%%\n"
    }
   }
  },
  {
   "cell_type": "code",
   "execution_count": 8,
   "outputs": [],
   "source": [
    "from itertools import permutations\n",
    "string = 'HACK'\n",
    "string = ''.join(sorted(string))"
   ],
   "metadata": {
    "collapsed": false,
    "pycharm": {
     "name": "#%%\n"
    }
   }
  }
 ],
 "metadata": {
  "kernelspec": {
   "display_name": "Python 3",
   "language": "python",
   "name": "python3"
  },
  "language_info": {
   "codemirror_mode": {
    "name": "ipython",
    "version": 2
   },
   "file_extension": ".py",
   "mimetype": "text/x-python",
   "name": "python",
   "nbconvert_exporter": "python",
   "pygments_lexer": "ipython2",
   "version": "2.7.6"
  }
 },
 "nbformat": 4,
 "nbformat_minor": 0
}
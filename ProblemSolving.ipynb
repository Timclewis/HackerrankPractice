{
 "cells": [
  {
   "cell_type": "code",
   "execution_count": 1,
   "outputs": [],
   "source": [
    "import pandas as pd\n",
    "import numpy as np\n",
    "import matplotlib as plt\n",
    "import sklearn"
   ],
   "metadata": {
    "collapsed": false,
    "pycharm": {
     "name": "#%%\n"
    }
   }
  },
  {
   "cell_type": "code",
   "execution_count": null,
   "outputs": [],
   "source": [
    "def timeConversion(s):\n",
    "\n",
    "    if s[8:] == 'AM':\n",
    "        if s[0:2] == '12':\n",
    "            return f'00{s[2:8]}'\n",
    "        else:\n",
    "            return s[:8]\n",
    "\n",
    "    if s[8:] == 'PM':\n",
    "        if s[0:2] == '12':\n",
    "            return s[:8]\n",
    "        else:\n",
    "            return f'{int(s[0:2])+12}{s[2:8]}'\n",
    "\n",
    "if __name__ == '__main__':\n",
    "\n",
    "    s = '12:05:45PM'\n",
    "\n",
    "    result = timeConversion(s)\n",
    "    print(result)"
   ],
   "metadata": {
    "collapsed": false,
    "pycharm": {
     "name": "#%%\n"
    }
   }
  },
  {
   "cell_type": "code",
   "execution_count": null,
   "outputs": [],
   "source": [
    "result = []\n",
    "grades = {'Rachel' : -50, 'Mawer' : -50, 'Sheen': -50, 'Shaheen': 51}\n",
    "grades3 = {'Harsh': 20, 'Beria' : 20, 'Varun' : 19, 'Kakunami' : 19, 'Vikas' : 21}\n",
    "grades2 = {'chi': 30.0,'beta': 50.0,'alpha': 50.0, 'gamma': 60.0}\n",
    "gradesSorted = sorted(grades.items(), key=lambda item: item[1])\n",
    "# 3 mins\n",
    "if gradesSorted[0][1] == gradesSorted[1][1] == gradesSorted[2][1]:\n",
    "        result.append(gradesSorted[3][0])\n",
    "\n",
    "# 2 mins\n",
    "if gradesSorted[0][1] == gradesSorted[1][1] != gradesSorted[2][1]:\n",
    "    if gradesSorted[2][1] == gradesSorted[3][1]:\n",
    "        result.append(gradesSorted[2][0])\n",
    "        result.append(gradesSorted[3][0])\n",
    "    else:\n",
    "        result.append(gradesSorted[2][0])\n",
    "# only 1 min\n",
    "if  gradesSorted[0][1] != gradesSorted[1][1]:\n",
    "    if gradesSorted[1][1] == gradesSorted[2][1]:\n",
    "        result.append(gradesSorted[1][0])\n",
    "        result.append(gradesSorted[2][0])\n",
    "    else:\n",
    "        result.append(gradesSorted[1][0])\n",
    "\n",
    "alpha = sorted(result)\n",
    "print(*alpha, sep='\\n')\n",
    "#if secondMin == sorted(grades.values())[2]:\n",
    "#print(grades.items(secondMin))\n",
    "\n",
    "\n",
    "# minimum = min(records, key=lambda x: x[1])\n",
    "# nomin = [x for x in records if x[1] != minimum[1]]\n",
    "# secondmin = min(nomin, key=lambda x: x[1])\n",
    "# print([row[0] for row in nomin])\n",
    "# l = [sublist for sublist in records if not min]\n",
    "#print(l)"
   ],
   "metadata": {
    "collapsed": false,
    "pycharm": {
     "name": "#%%\n"
    }
   }
  },
  {
   "cell_type": "code",
   "execution_count": null,
   "outputs": [],
   "source": [
    "import statistics\n",
    "marks = {'Krishna': [67.0, 68.0, 69.0], 'Arjun': [70.0, 98.0, 63.0], 'Malika': [52.0, 56.0, 60.0]}\n",
    "query = 'Malika'\n",
    "ans = (statistics.mean(marks.get('Malika')))\n",
    "print(f'{ans:.2f}')"
   ],
   "metadata": {
    "collapsed": false,
    "pycharm": {
     "name": "#%%\n"
    }
   }
  },
  {
   "cell_type": "code",
   "execution_count": null,
   "outputs": [],
   "source": [
    "scores = [10, 5, 20, 20, 4, 5, 2, 25, 1]\n",
    "oldmin, oldmax = scores[0], scores[0]\n",
    "minresult, maxresult = [], []\n",
    "\n",
    "for i in range(len(scores)):\n",
    "    newmin = min(scores[0:i+1])\n",
    "    newmax = max(scores[0:i+1])\n",
    "    if newmin < oldmin:\n",
    "        oldmin = newmin\n",
    "        minresult.append(newmin)\n",
    "    if newmax > oldmax:\n",
    "        oldmax = newmax\n",
    "        maxresult.append(newmax)\n",
    "\n",
    "print(len(maxresult), len(minresult))\n"
   ],
   "metadata": {
    "collapsed": false,
    "pycharm": {
     "name": "#%%\n"
    }
   }
  },
  {
   "cell_type": "code",
   "execution_count": 14,
   "outputs": [
    {
     "name": "stdout",
     "output_type": "stream",
     "text": [
      "2\n"
     ]
    }
   ],
   "source": [
    "d = 3\n",
    "m = 2\n",
    "s = [1, 2, 1, 3, 2]\n",
    "s1 = [1] * 6\n",
    "\n",
    "def birthday(s, d, m):\n",
    "    result = 0\n",
    "    for i in range(len(s)-m+1):\n",
    "        if sum(s[0+i:m+i]) == d:\n",
    "            result += 1\n",
    "    return result\n",
    "\n",
    "print(birthday(s, d, m))"
   ],
   "metadata": {
    "collapsed": false,
    "pycharm": {
     "name": "#%%\n"
    }
   }
  },
  {
   "cell_type": "code",
   "execution_count": 67,
   "outputs": [
    {
     "name": "stdout",
     "output_type": "stream",
     "text": [
      "1651\n"
     ]
    }
   ],
   "source": [
    "ar3 = [1,2,3,4,5,6]\n",
    "ar = [1,3,2,6,1,2]\n",
    "ar1 = '43 95 51 55 40 86 65 81 51 20 47 50 65 53 23 78 75 75 47 73 25 27 14 8 26 58 95 28 3 23 48 69 26 3 73 52 34 7 40 33 56 98 71 29 70 71 28 12 18 49 19 25 2 18 15 41 51 42 46 19 98 56 54 98 72 25 16 49 34 99 48 93 64 44 50 91 44 17 63 27 3 65 75 19 68 30 43 37 72 54 82 92 37 52 72 62 3 88 82 71'\n",
    "ar = list(map(int,ar1.split()))\n",
    "k = 3\n",
    "\n",
    "n = len(ar) # 6\n",
    "def divisibleSumPairs(n, k, ar):\n",
    "    result = 0\n",
    "    #sorted_ar = sorted(ar)\n",
    "    for i in range(n-1):\n",
    "        #print(i)\n",
    "        for j in range(0,n-1-i,1):\n",
    "            #print(j+i+1)\n",
    "            ans = ar[i] + ar[j+i+1]\n",
    "            #print(ans)\n",
    "            if ans % k == 0: #and (sorted_ar[i] < sorted_ar[j+i+1]):\n",
    "                #print(sorted_ar[i], sorted_ar[j+i+1])\n",
    "                result += 1\n",
    "    return result\n",
    "\n",
    "print(divisibleSumPairs(n, k, ar))"
   ],
   "metadata": {
    "collapsed": false,
    "pycharm": {
     "name": "#%%\n"
    }
   }
  },
  {
   "cell_type": "code",
   "execution_count": 9,
   "outputs": [
    {
     "name": "stdout",
     "output_type": "stream",
     "text": [
      "3\n"
     ]
    }
   ],
   "source": [
    "arr1 = [1,1,2,2,3]\n",
    "arr = [1,4,4,4,5,3]\n",
    "def migratoryBirds(arr):\n",
    "    n = len(arr)\n",
    "    result = [arr.count(i) for i in range(1, n)]\n",
    "    return result.index(max(result))+1\n",
    "\n",
    "\n",
    "print(migratoryBirds(arr))"
   ],
   "metadata": {
    "collapsed": false,
    "pycharm": {
     "name": "#%%\n"
    }
   }
  },
  {
   "cell_type": "code",
   "execution_count": 2,
   "outputs": [
    {
     "ename": "IndexError",
     "evalue": "list index out of range",
     "output_type": "error",
     "traceback": [
      "\u001B[1;31m---------------------------------------------------------------------------\u001B[0m",
      "\u001B[1;31mIndexError\u001B[0m                                Traceback (most recent call last)",
      "Input \u001B[1;32mIn [2]\u001B[0m, in \u001B[0;36m<cell line: 12>\u001B[1;34m()\u001B[0m\n\u001B[0;32m      8\u001B[0m         result[i] \u001B[38;5;241m+\u001B[39m\u001B[38;5;241m=\u001B[39m \u001B[38;5;241m1\u001B[39m\n\u001B[0;32m     10\u001B[0m     \u001B[38;5;28;01mreturn\u001B[39;00m result\n\u001B[1;32m---> 12\u001B[0m \u001B[38;5;28mprint\u001B[39m(\u001B[43mmigratoryBirds\u001B[49m\u001B[43m(\u001B[49m\u001B[43marr\u001B[49m\u001B[43m)\u001B[49m)\n",
      "Input \u001B[1;32mIn [2]\u001B[0m, in \u001B[0;36mmigratoryBirds\u001B[1;34m(arr)\u001B[0m\n\u001B[0;32m      6\u001B[0m result \u001B[38;5;241m=\u001B[39m [] \u001B[38;5;241m*\u001B[39m \u001B[38;5;241m6\u001B[39m\n\u001B[0;32m      7\u001B[0m \u001B[38;5;28;01mfor\u001B[39;00m i \u001B[38;5;129;01min\u001B[39;00m arr:\n\u001B[1;32m----> 8\u001B[0m     result[i] \u001B[38;5;241m+\u001B[39m\u001B[38;5;241m=\u001B[39m \u001B[38;5;241m1\u001B[39m\n\u001B[0;32m     10\u001B[0m \u001B[38;5;28;01mreturn\u001B[39;00m result\n",
      "\u001B[1;31mIndexError\u001B[0m: list index out of range"
     ]
    }
   ],
   "source": [
    "arr = [1,4,4,4,5,3]\n",
    "\n",
    "\n",
    "def migratoryBirds(arr):\n",
    "    n = len(arr)\n",
    "    result = [] * 6\n",
    "    for i in arr:\n",
    "        result[i] += 1\n",
    "\n",
    "    return result\n",
    "\n",
    "print(migratoryBirds(arr))"
   ],
   "metadata": {
    "collapsed": false,
    "pycharm": {
     "name": "#%%\n"
    }
   }
  },
  {
   "cell_type": "code",
   "execution_count": 18,
   "outputs": [
    {
     "name": "stdout",
     "output_type": "stream",
     "text": [
      "13.09.2100\n"
     ]
    }
   ],
   "source": [
    "year = 2100\n",
    "def dayOfProgrammer(year):\n",
    "    y = year\n",
    "    if year == 1918:\n",
    "        return f'26.09.{year}'\n",
    "\n",
    "    if year <= 1917:\n",
    "        if year % 4 == 0:\n",
    "            return f'12.09.{year}'\n",
    "        else:\n",
    "            return f'13.09.{year}'\n",
    "\n",
    "    else:\n",
    "        if year % 400 == 0:\n",
    "            return f'12.09.{year}'\n",
    "        if year % 4 == 0 and year % 100 != 0:\n",
    "            return f'12.09.{year}'\n",
    "        else:\n",
    "            return f'13.09.{year}'\n",
    "\n",
    "print(dayOfProgrammer(year))\n",
    "\n",
    "\n"
   ],
   "metadata": {
    "collapsed": false,
    "pycharm": {
     "name": "#%%\n"
    }
   }
  }
 ],
 "metadata": {
  "kernelspec": {
   "display_name": "Python 3",
   "language": "python",
   "name": "python3"
  },
  "language_info": {
   "codemirror_mode": {
    "name": "ipython",
    "version": 2
   },
   "file_extension": ".py",
   "mimetype": "text/x-python",
   "name": "python",
   "nbconvert_exporter": "python",
   "pygments_lexer": "ipython2",
   "version": "2.7.6"
  }
 },
 "nbformat": 4,
 "nbformat_minor": 0
}